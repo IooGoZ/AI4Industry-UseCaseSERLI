{
 "cells": [
  {
   "cell_type": "code",
   "execution_count": null,
   "metadata": {},
   "outputs": [
    {
     "name": "stdout",
     "output_type": "stream",
     "text": [
      "Converti : png\\a copy 2.png -> jpeg\\a copy 2.jpg\n",
      "Converti : png\\a copy.png -> jpeg\\a copy.jpg\n",
      "Converti : png\\a.png -> jpeg\\a.jpg\n",
      "Conversion terminée.\n"
     ]
    }
   ],
   "source": [
    "import os\n",
    "from PIL import Image\n",
    "\n",
    "def convert_png_to_jpeg(input_folder, output_folder):\n",
    "    if not os.path.exists(output_folder):\n",
    "        os.makedirs(output_folder)\n",
    "\n",
    "    for filename in os.listdir(input_folder):\n",
    "        if filename.endswith('.png'):\n",
    "            input_path = os.path.join(input_folder, filename)\n",
    "            output_path = os.path.join(output_folder, f\"{os.path.splitext(filename)[0]}.jpg\")\n",
    "\n",
    "            with Image.open(input_path) as img:\n",
    "                rgb_img = img.convert('RGB')\n",
    "                rgb_img.save(output_path, 'JPEG')\n",
    "                print(f\"Converti : {input_path} -> {output_path}\")\n",
    "\n",
    "\n",
    "input_folder = \"png\" \n",
    "output_folder = \"jpeg\"\n",
    "\n",
    "convert_png_to_jpeg(input_folder, output_folder)\n"
   ]
  },
  {
   "cell_type": "code",
   "execution_count": 2,
   "metadata": {},
   "outputs": [
    {
     "name": "stdout",
     "output_type": "stream",
     "text": [
      "Epoch [10/100], Loss: 10.2660\n",
      "Epoch [20/100], Loss: 11.1970\n",
      "Epoch [30/100], Loss: 12.6267\n",
      "Epoch [40/100], Loss: 14.7002\n",
      "Epoch [50/100], Loss: 17.6327\n",
      "Epoch [60/100], Loss: 21.7322\n",
      "Epoch [70/100], Loss: 27.4310\n",
      "Epoch [80/100], Loss: 35.3323\n",
      "Epoch [90/100], Loss: 46.2726\n",
      "Epoch [100/100], Loss: 61.4111\n",
      "tensor([[0.2309]])\n",
      "tensor([0.1832])\n"
     ]
    }
   ],
   "source": [
    "import torch\n",
    "\n",
    "import torch.nn as nn\n",
    "import torch.optim as optim\n",
    "\n",
    "# Générer des données d'exemple\n",
    "x = torch.randn(100, 1) * 10\n",
    "y = x + 3 * torch.randn(100, 1)\n",
    "\n",
    "# Définir le modèle de régression linéaire\n",
    "class LinearRegressionModel(nn.Module):\n",
    "    def __init__(self):\n",
    "        super(LinearRegressionModel, self).__init__()\n",
    "        self.linear = nn.Linear(1, 1)\n",
    "\n",
    "    def forward(self, x):\n",
    "        return self.linear(x)\n",
    "\n",
    "model = LinearRegressionModel()\n",
    "\n",
    "# Définir la fonction de perte et l'optimiseur\n",
    "criterion = nn.MSELoss()\n",
    "optimizer = optim.SGD(model.parameters(), lr=0.01)\n",
    "\n",
    "# Entraîner le modèle\n",
    "epochs = 100\n",
    "for epoch in range(epochs):\n",
    "    model.train()\n",
    "    optimizer.zero_grad()\n",
    "    outputs = model(x)\n",
    "    loss = criterion(outputs, y)\n",
    "    loss.backward()\n",
    "    optimizer.step()\n",
    "\n",
    "    if (epoch+1) % 10 == 0:\n",
    "        print(f'Epoch [{epoch+1}/{epochs}], Loss: {loss.item():.4f}')\n",
    "\n",
    "# Afficher les paramètres appris\n",
    "for param in model.parameters():\n",
    "    print(param.data)"
   ]
  },
  {
   "cell_type": "code",
   "execution_count": null,
   "metadata": {},
   "outputs": [],
   "source": []
  }
 ],
 "metadata": {
  "kernelspec": {
   "display_name": "work_shop_ai4i",
   "language": "python",
   "name": "python3"
  },
  "language_info": {
   "codemirror_mode": {
    "name": "ipython",
    "version": 3
   },
   "file_extension": ".py",
   "mimetype": "text/x-python",
   "name": "python",
   "nbconvert_exporter": "python",
   "pygments_lexer": "ipython3",
   "version": "3.12.8"
  }
 },
 "nbformat": 4,
 "nbformat_minor": 2
}
