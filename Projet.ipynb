{
 "cells": [
  {
   "cell_type": "markdown",
   "metadata": {},
   "source": [
    "# SERLI - AI4Industry - 2025\n",
    "\n",
    "---\n",
    "Notebook du Groupe rouge foncé (on aurait préféré le bleu)\n",
    "---"
   ]
  },
  {
   "cell_type": "markdown",
   "metadata": {},
   "source": [
    "## Import des librairies"
   ]
  },
  {
   "cell_type": "code",
   "execution_count": 45,
   "metadata": {},
   "outputs": [],
   "source": [
    "import cv2\n",
    "import os\n",
    "import json\n",
    "from tqdm import tqdm\n",
    "import numpy as np\n",
    "import threading\n",
    "from scipy.ndimage import label"
   ]
  },
  {
   "cell_type": "markdown",
   "metadata": {},
   "source": [
    "## Variables globales"
   ]
  },
  {
   "cell_type": "code",
   "execution_count": 39,
   "metadata": {},
   "outputs": [],
   "source": [
    "DATASET_FOLDER = \"dataset/\"\n",
    "IMAGE_SIZE = (848, 480)\n",
    "MASK_FILE = \"mask1.png\"\n",
    "NB_MASKED_IMAGES = 24"
   ]
  },
  {
   "cell_type": "markdown",
   "metadata": {},
   "source": [
    "## Variables système"
   ]
  },
  {
   "cell_type": "code",
   "execution_count": 3,
   "metadata": {},
   "outputs": [],
   "source": []
  },
  {
   "cell_type": "markdown",
   "metadata": {},
   "source": [
    "## Import des données"
   ]
  },
  {
   "cell_type": "code",
   "execution_count": null,
   "metadata": {},
   "outputs": [],
   "source": [
    "data_lock = threading.Lock() \n",
    "image_list = []\n",
    "label_list = []\n",
    "\n",
    "mask = cv2.imread(MASK_FILE, 0)\n",
    "\n",
    "def read_subfolder(subfolder_path, image_size, image_list, label_list):\n",
    "    print(f\"Reading subfolder: {subfolder_path}\")\n",
    "    for file in os.listdir(subfolder_path):\n",
    "        if file.endswith('.png'):\n",
    "            image_path = os.path.join(subfolder_path, file)\n",
    "            file_name = file.split(\".\")[0]\n",
    "            json_path = os.path.join(subfolder_path, file_name + \".json\")\n",
    "\n",
    "            index = int(file_name.split(\"_\")[1])\n",
    "\n",
    "            if os.path.exists(json_path) and os.path.exists(image_path):\n",
    "                image = cv2.imread(image_path)\n",
    "                image = cv2.resize(image, image_size)\n",
    "                image = cv2.bitwise_and(image, image, mask=mask)\n",
    "\n",
    "                with data_lock:\n",
    "                    image_list[index] = image\n",
    "                    with open(json_path) as json_file:\n",
    "                        data = json.load(json_file)\n",
    "                        label_list[index] = data\n",
    "            else:\n",
    "                print(f\"json file does not exist for: {file}\")\n",
    "    print(f\"Finished reading subfolder: {subfolder_path}\")\n",
    "\n",
    "if os.path.exists(DATASET_FOLDER):\n",
    "    print(\"Dataset folder exists\")\n",
    "    \n",
    "    dataset_len = 1\n",
    "    for subfolders in os.listdir(DATASET_FOLDER):\n",
    "        subfolder_path = os.path.join(DATASET_FOLDER, subfolders)\n",
    "        for file in os.listdir(subfolder_path):\n",
    "            if file.endswith('.png'):\n",
    "                dataset_len += 1\n",
    "                \n",
    "    image_list = np.zeros((dataset_len, IMAGE_SIZE[1], IMAGE_SIZE[0], 3), dtype=np.uint8)\n",
    "    label_list = np.zeros((dataset_len, 1), dtype=object)\n",
    "    \n",
    "    threads = []\n",
    "\n",
    "    # Lancer un thread pour chaque sous-dossier\n",
    "    for subfolder in os.listdir(DATASET_FOLDER):\n",
    "        subfolder_path = os.path.join(DATASET_FOLDER, subfolder)\n",
    "        if os.path.isdir(subfolder_path):\n",
    "            thread = threading.Thread(target=read_subfolder, args=(subfolder_path, IMAGE_SIZE, image_list, label_list))\n",
    "            threads.append(thread)\n",
    "            thread.start()\n",
    "\n",
    "    # Attendre que tous les threads soient terminés\n",
    "    for thread in threads:\n",
    "        thread.join()\n",
    "else:\n",
    "    raise Exception(\"Dataset folder does not exist\")\n"
   ]
  },
  {
   "cell_type": "code",
   "execution_count": 79,
   "metadata": {},
   "outputs": [],
   "source": [
    "colors_lst = [ \n",
    "    [255, 0, 0], [0, 255, 0], [0, 0, 255], [255, 255, 0], \n",
    "    [255, 0, 255], [0, 255, 255], [128, 0, 0], [0, 128, 0], \n",
    "    [0, 0, 128], [128, 128, 0], [128, 0, 128], [0, 128, 128], \n",
    "    [192, 0, 0], [0, 192, 0], [0, 0, 192], [192, 192, 0], \n",
    "    [192, 0, 192], [0, 192, 192], [64, 0, 0], [0, 64, 0], \n",
    "    [0, 0, 64], [64, 64, 0], [64, 0, 64], [0, 64, 64]\n",
    "]\n",
    "\n",
    "def segment_on_dt(a, img):\n",
    "    border = cv2.dilate(img, None, iterations=5)\n",
    "    border = border - cv2.erode(border, None)\n",
    "\n",
    "    dt = cv2.distanceTransform(img, 2, 3)\n",
    "    dt = ((dt - dt.min()) / (dt.max() - dt.min()) * 255).astype(np.uint8)\n",
    "    _, dt = cv2.threshold(dt, 180, 255, cv2.THRESH_BINARY)\n",
    "    lbl, ncc = label(dt)\n",
    "    lbl = lbl * (255 / (ncc + 1))\n",
    "    # Completing the markers now. \n",
    "    lbl[border == 255] = 255\n",
    "\n",
    "    lbl = lbl.astype(np.int32)\n",
    "    cv2.watershed(a, lbl)\n",
    "\n",
    "    lbl[lbl == -1] = 0\n",
    "    lbl = lbl.astype(np.uint8)\n",
    "    return 255 - lbl\n",
    "\n",
    "def apply_watershed(image):\n",
    "    \n",
    "    img_blur = cv2.GaussianBlur(image, (3, 3), 0)\n",
    "    \n",
    "    img_gray = cv2.cvtColor(img_blur, cv2.COLOR_BGR2GRAY)    \n",
    "    _, img_bin = cv2.threshold(img_gray, 0, 255,\n",
    "            cv2.THRESH_OTSU)\n",
    "    img_bin = cv2.morphologyEx(img_bin, cv2.MORPH_OPEN,\n",
    "            np.ones((3, 3), dtype=int), iterations=4)\n",
    "\n",
    "    result = segment_on_dt(image, img_bin)\n",
    "    \n",
    "    return result"
   ]
  },
  {
   "cell_type": "code",
   "execution_count": 80,
   "metadata": {},
   "outputs": [],
   "source": [
    "def apply_kmeans(image, k = 5) :\n",
    "    Z = image.reshape((-1,3))\n",
    "    Z = np.float32(Z)\n",
    "    \n",
    "    criteria = (cv2.TERM_CRITERIA_EPS + cv2.TERM_CRITERIA_MAX_ITER, 10, 1.0)\n",
    "    K = k\n",
    "    ret,label,center=cv2.kmeans(Z, k, None, criteria, 10, cv2.KMEANS_RANDOM_CENTERS)\n",
    "    \n",
    "    center = np.uint8(center)\n",
    "    res = center[label.flatten()]\n",
    "    res2 = res.reshape((image.shape))\n",
    "    \n",
    "    return res2"
   ]
  },
  {
   "cell_type": "code",
   "execution_count": 81,
   "metadata": {},
   "outputs": [],
   "source": [
    "def apply_grabcut(image):\n",
    "    mask = np.zeros(image.shape[:2], np.uint8)\n",
    "    bgdModel = np.zeros((1, 65), np.float64)\n",
    "    fgdModel = np.zeros((1, 65), np.float64)\n",
    "    \n",
    "    cv2.grabCut(image, mask, None, bgdModel, fgdModel, 5, cv2.GC_INIT_WITH_RECT)\n",
    "    \n",
    "    mask2 = np.where((mask == 2) | (mask == 0), 0, 1).astype('uint8')\n",
    "    \n",
    "    image[mask2 == 0] = [0, 0, 0]\n",
    "    \n",
    "    return image"
   ]
  },
  {
   "cell_type": "code",
   "execution_count": null,
   "metadata": {},
   "outputs": [],
   "source": [
    "# Display the segmented images as a video stream\n",
    "for img in image_list:\n",
    "    \n",
    "    cv2.imshow('Segmented Image', apply_watershed(img))\n",
    "    if cv2.waitKey(18) & 0xFF == ord('q'):\n",
    "        break\n",
    "    elif cv2.waitKey(18) & 0xFF == ord('s'):\n",
    "        cv2.imwrite(\"segmented_image.png\", apply_watershed(img))\n",
    "    \n",
    "\n",
    "cv2.destroyAllWindows()"
   ]
  },
  {
   "cell_type": "code",
   "execution_count": null,
   "metadata": {},
   "outputs": [],
   "source": []
  }
 ],
 "metadata": {
  "kernelspec": {
   "display_name": "DeepGPU",
   "language": "python",
   "name": "python3"
  },
  "language_info": {
   "codemirror_mode": {
    "name": "ipython",
    "version": 3
   },
   "file_extension": ".py",
   "mimetype": "text/x-python",
   "name": "python",
   "nbconvert_exporter": "python",
   "pygments_lexer": "ipython3",
   "version": "3.12.8"
  }
 },
 "nbformat": 4,
 "nbformat_minor": 2
}
