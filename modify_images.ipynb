{
 "cells": [
  {
   "cell_type": "markdown",
   "metadata": {},
   "source": [
    "# Imports"
   ]
  },
  {
   "cell_type": "code",
   "execution_count": null,
   "metadata": {},
   "outputs": [],
   "source": [
    "import os\n",
    "from PIL import Image\n",
    "import shutil\n",
    "from math import ceil"
   ]
  },
  {
   "cell_type": "markdown",
   "metadata": {},
   "source": [
    "### Conversion d'images PNG en JPEG dans le dossier courant"
   ]
  },
  {
   "cell_type": "code",
   "execution_count": 1,
   "metadata": {},
   "outputs": [],
   "source": [
    "def create_jpeg_images():\n",
    "    \"\"\"\n",
    "    Convertit toutes les images PNG du dossier courant en JPEG.\n",
    "    Les fichiers PNG originaux restent inchangés.\n",
    "    \"\"\"\n",
    "\n",
    "    current_dir = os.getcwd()\n",
    "    for file_name in os.listdir(current_dir):\n",
    "        if file_name.lower().endswith('.png'):\n",
    "            file_path = os.path.join(current_dir, file_name)\n",
    "            try:\n",
    "                with Image.open(file_path) as img:\n",
    "                    rgb_image = img.convert('RGB')\n",
    "                    new_file_name = os.path.splitext(file_name)[0] + '.jpg'\n",
    "                    new_file_path = os.path.join(current_dir, new_file_name)\n",
    "                    rgb_image.save(new_file_path, 'JPEG')\n",
    "            except Exception as e:\n",
    "                print(f\"Erreur lors de la conversion de {file_name} : {e}\")\n",
    "                \n",
    "create_jpeg_images()"
   ]
  },
  {
   "cell_type": "markdown",
   "metadata": {},
   "source": [
    "### Suppression des images PNG inutilisées par la suite"
   ]
  },
  {
   "cell_type": "code",
   "execution_count": null,
   "metadata": {},
   "outputs": [],
   "source": [
    "def delete_png_images():\n",
    "    \"\"\"\n",
    "    Supprime tous les fichiers PNG du dossier courant.\n",
    "    \"\"\"\n",
    "    current_dir = os.getcwd()\n",
    "    for file_name in os.listdir(current_dir):\n",
    "        if file_name.lower().endswith('.png'):\n",
    "            file_path = os.path.join(current_dir, file_name)\n",
    "            try:\n",
    "                os.remove(file_path)\n",
    "            except Exception as e:\n",
    "                print(f\"Erreur lors de la suppression de {file_name} : {e}\")\n",
    "                \n",
    "delete_png_images()"
   ]
  },
  {
   "cell_type": "markdown",
   "metadata": {},
   "source": [
    "### Renommage des images du dossier courant"
   ]
  },
  {
   "cell_type": "code",
   "execution_count": null,
   "metadata": {},
   "outputs": [],
   "source": [
    "def rename_files_to_fix_sorting():\n",
    "    \"\"\"\n",
    "    Renomme les fichiers en supprimant le préfixe et en ajoutant des zéros pour le tri numérique\n",
    "    \"\"\"\n",
    "    current_dir = os.getcwd()\n",
    "    for file_name in os.listdir(current_dir):\n",
    "        if file_name.endswith('.jpg') or file_name.endswith('.json'):\n",
    "            base_name, ext = os.path.splitext(file_name)\n",
    "            try:\n",
    "                parts = base_name.split('_')\n",
    "                if len(parts) > 1 and parts[-1].isdigit():\n",
    "                    number = int(parts[-1])\n",
    "                    new_base_name = f\"{number:04d}\"\n",
    "                    new_file_name = new_base_name + ext\n",
    "                    old_path = os.path.join(current_dir, file_name)\n",
    "                    new_path = os.path.join(current_dir, new_file_name)\n",
    "                    os.rename(old_path, new_path)\n",
    "            except ValueError:\n",
    "                print(f\"Nom ignoré : {file_name} (pas de numéro valide à la fin)\")\n",
    "\n",
    "rename_files_to_fix_sorting()"
   ]
  },
  {
   "cell_type": "markdown",
   "metadata": {},
   "source": [
    "### Compression des images en 480x848"
   ]
  },
  {
   "cell_type": "code",
   "execution_count": 9,
   "metadata": {},
   "outputs": [],
   "source": [
    "def compress_images(video_dir, num_images):\n",
    "    \"\"\"\n",
    "    Compresse les images .jpg dans un dossier donné à une résolution de 848x480.\n",
    "    \n",
    "    Args:\n",
    "        video_dir (str): Chemin du dossier contenant les images .jpg.\n",
    "        num_images (int): Nombre d'images à modifier.\n",
    "    \"\"\"\n",
    "    image_files = [\n",
    "        f for f in os.listdir(video_dir)\n",
    "        if os.path.splitext(f)[-1].lower() == \".jpg\"\n",
    "    ]\n",
    "    if num_images > len(image_files):\n",
    "        raise ValueError(f\"Le dossier ne contient que {len(image_files)} images .jpg, \"\n",
    "                         f\"mais vous avez demandé d'en traiter {num_images}.\")\n",
    "\n",
    "    for i, image_file in enumerate(image_files[:num_images]):\n",
    "        image_path = os.path.join(video_dir, image_file)\n",
    "        \n",
    "        try:\n",
    "            with Image.open(image_path) as img:\n",
    "                img_resized = img.resize((848, 480), Image.Resampling.LANCZOS)\n",
    "                img_resized.save(image_path, quality=85, optimize=True)\n",
    "        except Exception as e:\n",
    "            print(f\"Erreur lors de la compression de l'image {image_file}: {e}\")\n",
    "            \n",
    "compress_images(os.getcwd(),1440)"
   ]
  },
  {
   "cell_type": "markdown",
   "metadata": {},
   "source": [
    "### Séparation des fichiers en dossier de taille donnée"
   ]
  },
  {
   "cell_type": "code",
   "execution_count": null,
   "metadata": {},
   "outputs": [],
   "source": [
    "def split_files_into_parts(input_folder, output_folder, chunk_size=100):\n",
    "    \"\"\"\n",
    "    Divise les fichiers d'un dossier en plusieurs sous-dossiers contenant un maximum de `chunk_size` fichiers.\n",
    "    \n",
    "    Args:\n",
    "        input_folder (str): Chemin du dossier contenant les fichiers originaux.\n",
    "        output_folder (str): Chemin où les sous-dossiers seront créés.\n",
    "        chunk_size (int): Nombre maximum de fichiers par sous-dossier.\n",
    "    \"\"\"\n",
    "    os.makedirs(output_folder, exist_ok=True)\n",
    "    files = sorted([f for f in os.listdir(input_folder) if f.endswith(('.png', '.jpg', '.json'))])\n",
    "    total_parts = ceil(len(files) / chunk_size)\n",
    "    \n",
    "    for part in range(total_parts):\n",
    "        part_folder = os.path.join(output_folder, f\"part{part:02}\")\n",
    "        os.makedirs(part_folder, exist_ok=True)\n",
    "\n",
    "        start_idx = part * chunk_size\n",
    "        end_idx = start_idx + chunk_size\n",
    "        chunk_files = files[start_idx:end_idx]\n",
    "\n",
    "        for file_name in chunk_files:\n",
    "            src_path = os.path.join(input_folder, file_name)\n",
    "            dest_path = os.path.join(part_folder, file_name)\n",
    "            shutil.move(src_path, dest_path)\n",
    "\n",
    "\n",
    "input_folder = os.getcwd()\n",
    "output_folder = os.getcwd()\n",
    "split_files_into_parts(input_folder, output_folder)"
   ]
  }
 ],
 "metadata": {
  "kernelspec": {
   "display_name": "AI4Ind",
   "language": "python",
   "name": "python3"
  },
  "language_info": {
   "codemirror_mode": {
    "name": "ipython",
    "version": 3
   },
   "file_extension": ".py",
   "mimetype": "text/x-python",
   "name": "python",
   "nbconvert_exporter": "python",
   "pygments_lexer": "ipython3",
   "version": "3.12.8"
  }
 },
 "nbformat": 4,
 "nbformat_minor": 2
}
